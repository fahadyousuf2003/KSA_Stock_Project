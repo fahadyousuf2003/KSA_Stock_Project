{
 "cells": [
  {
   "cell_type": "code",
   "execution_count": 1,
   "metadata": {},
   "outputs": [
    {
     "name": "stderr",
     "output_type": "stream",
     "text": [
      "Unable to create process using 'C:\\Users\\Ali Zain\\computer programmer codes\\New folder\\python.exe \"C:\\Users\\Ali Zain\\computer programmer codes\\New folder\\Scripts\\pip-script.py\" install tiktoken'\n",
      "Unable to create process using 'C:\\Users\\Ali Zain\\computer programmer codes\\New folder\\python.exe \"C:\\Users\\Ali Zain\\computer programmer codes\\New folder\\Scripts\\pip-script.py\" install groq'\n",
      "Unable to create process using 'C:\\Users\\Ali Zain\\computer programmer codes\\New folder\\python.exe \"C:\\Users\\Ali Zain\\computer programmer codes\\New folder\\Scripts\\pip-script.py\" install langchain-groq'\n",
      "Unable to create process using 'C:\\Users\\Ali Zain\\computer programmer codes\\New folder\\python.exe \"C:\\Users\\Ali Zain\\computer programmer codes\\New folder\\Scripts\\pip-script.py\" install pinecone'\n",
      "Unable to create process using 'C:\\Users\\Ali Zain\\computer programmer codes\\New folder\\python.exe \"C:\\Users\\Ali Zain\\computer programmer codes\\New folder\\Scripts\\pip-script.py\" install langchain-community'\n"
     ]
    }
   ],
   "source": [
    "# Dependencies\n",
    "!pip install tiktoken\n",
    "!pip install groq\n",
    "!pip install langchain-groq\n",
    "!pip install pinecone\n",
    "!pip install langchain-community\n",
    "\n"
   ]
  },
  {
   "cell_type": "code",
   "execution_count": 13,
   "metadata": {},
   "outputs": [
    {
     "ename": "NameError",
     "evalue": "name 'Flask' is not defined",
     "output_type": "error",
     "traceback": [
      "\u001b[1;31m---------------------------------------------------------------------------\u001b[0m",
      "\u001b[1;31mNameError\u001b[0m                                 Traceback (most recent call last)",
      "Cell \u001b[1;32mIn[13], line 1\u001b[0m\n\u001b[1;32m----> 1\u001b[0m app \u001b[38;5;241m=\u001b[39m Flask(\u001b[38;5;18m__name__\u001b[39m)\n\u001b[0;32m      2\u001b[0m app\u001b[38;5;241m.\u001b[39msecret_key \u001b[38;5;241m=\u001b[39m \u001b[38;5;124m'\u001b[39m\u001b[38;5;124myour_secret_key\u001b[39m\u001b[38;5;124m'\u001b[39m\n\u001b[0;32m      3\u001b[0m app\u001b[38;5;241m.\u001b[39mconfig[\u001b[38;5;124m\"\u001b[39m\u001b[38;5;124mSQLALCHEMY_DATABASE_URI\u001b[39m\u001b[38;5;124m\"\u001b[39m] \u001b[38;5;241m=\u001b[39m \u001b[38;5;124m'\u001b[39m\u001b[38;5;124mmysql://root:@localhost/KSA_Stock_Project\u001b[39m\u001b[38;5;124m'\u001b[39m\n",
      "\u001b[1;31mNameError\u001b[0m: name 'Flask' is not defined"
     ]
    }
   ],
   "source": [
    "app = Flask(__name__)\n",
    "app.secret_key = 'your_secret_key'\n",
    "app.config[\"SQLALCHEMY_DATABASE_URI\"] = 'mysql://root:@localhost/KSA_Stock_Project'\n",
    "db = SQLAlchemy(app)"
   ]
  },
  {
   "cell_type": "code",
   "execution_count": 14,
   "metadata": {},
   "outputs": [],
   "source": [
    "from flask import Flask, render_template, request, redirect, url_for, flash, session\n",
    "from sqlalchemy import func\n",
    "from flask_sqlalchemy import SQLAlchemy\n",
    "import spacy\n",
    "import re\n",
    "from flask import jsonify\n",
    "from sqlalchemy import DECIMAL\n",
    "import pymysql\n",
    "from decimal import Decimal\n",
    "import streamlit as st\n",
    "import os\n",
    "import json\n",
    "import pathlib\n",
    "import textwrap\n",
    "from datetime import datetime\n",
    "from langchain_google_genai import ChatGoogleGenerativeAI\n",
    "import google.generativeai as genai\n",
    "from datetime import date\n",
    "\n",
    "from IPython.display import display\n",
    "from IPython.display import Markdown\n",
    "\n",
    "nlp = spacy.load(\"en_core_web_sm\")\n",
    "pymysql.install_as_MySQLdb()"
   ]
  },
  {
   "cell_type": "code",
   "execution_count": 16,
   "metadata": {},
   "outputs": [],
   "source": [
    "app = Flask(__name__)\n",
    "app.secret_key = 'your_secret_key'\n",
    "app.config[\"SQLALCHEMY_DATABASE_URI\"] = 'mysql+pymysql://root:@localhost/KSA_Stock_Project'\n",
    "db = SQLAlchemy(app)"
   ]
  },
  {
   "cell_type": "code",
   "execution_count": 17,
   "metadata": {},
   "outputs": [],
   "source": [
    "class User_info(db.Model):\n",
    "    id = db.Column(db.Integer, primary_key=True)\n",
    "    name = db.Column(db.String(120), nullable=False)\n",
    "    Surname = db.Column(db.String(120), nullable=False)\n",
    "    DOB_Day = db.Column(db.Integer, nullable=False)\n",
    "    DOB_Month = db.Column(db.String(120), nullable=False)\n",
    "    DOB_YEAR = db.Column(db.Integer, nullable=False)\n",
    "    Gender = db.Column(db.String(120), nullable=False)\n",
    "    Mobile_Number_Or_Email = db.Column(db.String(120), nullable=False)\n",
    "    Password = db.Column(db.String(120), nullable=False)\n",
    "    portfolios = db.relationship('Portfolio', backref='user', lazy=True)\n",
    "\n",
    "class Stocks(db.Model):\n",
    "    stock_id = db.Column(db.Integer, primary_key=True)\n",
    "    ticker_symbol = db.Column(db.String(10), nullable=False)\n",
    "    company_name = db.Column(db.String(100), nullable=False)\n",
    "    current_price = db.Column(DECIMAL(10,2), nullable=False)\n",
    "    sector = db.Column(db.String(50))\n",
    "    listing_date = db.Column(db.Date)\n",
    "    high_price_52w = db.Column(DECIMAL(10,2))\n",
    "    low_price_52w = db.Column(DECIMAL(10,2))\n",
    "    updated_at = db.Column(db.DateTime)\n",
    "    portfolios = db.relationship('Portfolio', backref='stock', lazy=True)\n",
    "\n",
    "class StockPriceHistory(db.Model):\n",
    "    __tablename__ = 'stock price history'\n",
    "    price_history_id = db.Column(db.Integer, primary_key=True)\n",
    "    stock_id = db.Column(db.Integer, db.ForeignKey('stocks.stock_id'), nullable=False)\n",
    "    price = db.Column(db.DECIMAL(10, 2), nullable=False)\n",
    "    date = db.Column(db.TIMESTAMP, nullable=False, server_default=db.func.current_timestamp())\n",
    "\n",
    "class Portfolio(db.Model):\n",
    "    portfolio_id = db.Column(db.Integer, primary_key=True)\n",
    "    user_id = db.Column(db.Integer, db.ForeignKey('user_info.id'), nullable=False)\n",
    "    stock_id = db.Column(db.Integer, db.ForeignKey('stocks.stock_id'), nullable=False) \n",
    "    quantity = db.Column(db.Integer, nullable=False)\n",
    "    purchase_price = db.Column(DECIMAL(10,2), nullable=False)\n",
    "    purchase_date = db.Column(db.Date, nullable=False)\n",
    "\n",
    "class Funds(db.Model):\n",
    "    __tablename__ = 'funds'\n",
    "\n",
    "    fund_id = db.Column(db.Integer, primary_key=True, autoincrement=True)\n",
    "    user_id = db.Column(db.Integer, db.ForeignKey('user_info.id'), nullable=False)\n",
    "    available_balance = db.Column(db.Float, nullable=False, default=0.0)\n",
    "    total_balance = db.Column(db.Float, nullable=False, default=0.0)\n",
    "    last_updated = db.Column(db.DateTime, nullable=False)\n"
   ]
  },
  {
   "cell_type": "code",
   "execution_count": 18,
   "metadata": {},
   "outputs": [],
   "source": [
    "# Import Libraries\n",
    "import os\n",
    "import pandas as pd\n",
    "import tiktoken\n",
    "\n",
    "from groq import Groq\n",
    "from langchain_groq import ChatGroq\n",
    "from langchain.chains import RetrievalQA\n",
    "from langchain.prompts import PromptTemplate\n",
    "from langchain_community.embeddings import HuggingFaceEmbeddings\n",
    "from langchain_core.documents import Document\n",
    "\n",
    "from pinecone import Pinecone, ServerlessSpec\n",
    "from langchain_community.vectorstores import Pinecone as PineconeVectorStore\n",
    "\n",
    "import io\n",
    "from contextlib import redirect_stdout\n"
   ]
  },
  {
   "cell_type": "code",
   "execution_count": 19,
   "metadata": {},
   "outputs": [],
   "source": [
    "groq_api_key = \"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\""
   ]
  },
  {
   "cell_type": "code",
   "execution_count": 20,
   "metadata": {},
   "outputs": [
    {
     "name": "stdout",
     "output_type": "stream",
     "text": [
      "Database information has been successfully added to the 'user_info.csv' file!\n"
     ]
    }
   ],
   "source": [
    "from flask import Flask\n",
    "from flask_sqlalchemy import SQLAlchemy\n",
    "import pandas as pd\n",
    "\n",
    "# Connect to the database\n",
    "app = Flask(__name__)\n",
    "app.secret_key = 'your_secret_key'\n",
    "app.config[\"SQLALCHEMY_DATABASE_URI\"] = 'mysql+pymysql://root:@localhost/KSA_Stock_Project'\n",
    "db = SQLAlchemy(app)\n",
    "\n",
    "# Query the User_info table\n",
    "with app.app_context():\n",
    "    query = db.session.query(User_info).all()\n",
    "\n",
    "    # Convert query results to a list of dictionaries\n",
    "    data = [\n",
    "        {\n",
    "            'id': user.id,\n",
    "            'name': user.name,\n",
    "            'Surname': user.Surname,\n",
    "            'DOB_Day': user.DOB_Day,\n",
    "            'DOB_Month': user.DOB_Month,\n",
    "            'DOB_YEAR': user.DOB_YEAR,\n",
    "            'Gender': user.Gender,\n",
    "            'Mobile_Number_Or_Email': user.Mobile_Number_Or_Email,\n",
    "            'Password': user.Password\n",
    "        }\n",
    "        for user in query\n",
    "    ]\n",
    "\n",
    "    # Create a Pandas DataFrame\n",
    "    imdb = pd.DataFrame(data)\n",
    "\n",
    "    # Save the DataFrame to the CSV file\n",
    "    imdb.to_csv('user_info.csv', index=False)\n",
    "    print(\"Database information has been successfully added to the 'user_info.csv' file!\")\n"
   ]
  },
  {
   "cell_type": "code",
   "execution_count": 21,
   "metadata": {},
   "outputs": [
    {
     "name": "stdout",
     "output_type": "stream",
     "text": [
      "Combined data has been successfully saved to 'combined_data.csv'!\n"
     ]
    }
   ],
   "source": [
    "from sqlalchemy.orm import joinedload\n",
    "import pandas as pd\n",
    "\n",
    "# Perform the join\n",
    "with app.app_context():\n",
    "    query = (\n",
    "        db.session.query(\n",
    "            User_info.id.label(\"user_id\"),\n",
    "            User_info.name.label(\"user_name\"),\n",
    "            User_info.Surname.label(\"user_surname\"),\n",
    "            User_info.Gender.label(\"user_gender\"),\n",
    "            Stocks.stock_id.label(\"stock_id\"),\n",
    "            Stocks.ticker_symbol.label(\"ticker_symbol\"),\n",
    "            Stocks.company_name.label(\"company_name\"),\n",
    "            Stocks.current_price.label(\"current_price\"),\n",
    "            Stocks.sector.label(\"sector\"),\n",
    "            StockPriceHistory.price.label(\"stock_price\"),\n",
    "            StockPriceHistory.date.label(\"price_date\"),\n",
    "            Portfolio.quantity.label(\"quantity\"),\n",
    "            Portfolio.purchase_price.label(\"purchase_price\"),\n",
    "            Portfolio.purchase_date.label(\"purchase_date\"),\n",
    "            Funds.available_balance.label(\"available_balance\"),\n",
    "            Funds.total_balance.label(\"total_balance\"),\n",
    "            Funds.last_updated.label(\"fund_last_updated\"),\n",
    "        )\n",
    "        .join(Portfolio, User_info.id == Portfolio.user_id)\n",
    "        .join(Stocks, Portfolio.stock_id == Stocks.stock_id)\n",
    "        .join(StockPriceHistory, Stocks.stock_id == StockPriceHistory.stock_id)\n",
    "        .join(Funds, User_info.id == Funds.user_id)\n",
    "    )\n",
    "\n",
    "    # Fetch all results\n",
    "    results = query.all()\n",
    "\n",
    "    # Convert query results to a list of dictionaries\n",
    "    data = [dict(row._mapping) for row in results]\n",
    "\n",
    "    # Create a Pandas DataFrame\n",
    "    combined_data = pd.DataFrame(data)\n",
    "\n",
    "    # Save the combined data to a CSV file\n",
    "    combined_data.to_csv('combined_data.csv', index=False)\n",
    "    print(\"Combined data has been successfully saved to 'combined_data.csv'!\")\n"
   ]
  },
  {
   "cell_type": "code",
   "execution_count": 22,
   "metadata": {},
   "outputs": [],
   "source": [
    "# Create combined information column\n",
    "combined_data['combined_info'] = combined_data.apply(\n",
    "    lambda row: (\n",
    "        f\"User: {row['user_name']} {row['user_surname']} (Gender: {row['user_gender']}). \"\n",
    "        f\"Stock: {row['ticker_symbol']} - {row['company_name']} in {row['sector']} sector, \"\n",
    "        f\"current price: {row['current_price']}. \"\n",
    "        f\"Portfolio: {row['quantity']} shares purchased at {row['purchase_price']} on {row['purchase_date']}. \"\n",
    "        f\"Stock Price History: {row['stock_price']} on {row['price_date']}. \"\n",
    "        f\"Funds: Available balance: {row['available_balance']}, Total balance: {row['total_balance']} (Last updated: {row['fund_last_updated']}).\"\n",
    "    ),\n",
    "    axis=1\n",
    ")\n"
   ]
  },
  {
   "cell_type": "code",
   "execution_count": 23,
   "metadata": {},
   "outputs": [
    {
     "name": "stderr",
     "output_type": "stream",
     "text": [
      "C:\\Users\\Ali Zain\\AppData\\Local\\Temp\\ipykernel_18196\\2769015774.py:10: LangChainDeprecationWarning: The class `HuggingFaceEmbeddings` was deprecated in LangChain 0.2.2 and will be removed in 1.0. An updated version of the class exists in the langchain-huggingface package and should be used instead. To use it run `pip install -U langchain-huggingface` and import as `from langchain_huggingface import HuggingFaceEmbeddings`.\n",
      "  embeddings = HuggingFaceEmbeddings(\n"
     ]
    },
    {
     "name": "stdout",
     "output_type": "stream",
     "text": [
      "WARNING:tensorflow:From c:\\Users\\Ali Zain\\computer programmer codes\\New folder\\Lib\\site-packages\\tf_keras\\src\\losses.py:2976: The name tf.losses.sparse_softmax_cross_entropy is deprecated. Please use tf.compat.v1.losses.sparse_softmax_cross_entropy instead.\n",
      "\n"
     ]
    }
   ],
   "source": [
    "# Token encoding\n",
    "encoding = tiktoken.get_encoding('cl100k_base')\n",
    "max_tokens = 8000\n",
    "\n",
    "# Omit descriptions that are too long to embed\n",
    "combined_data[\"n_tokens\"] = combined_data.combined_info.apply(lambda x: len(encoding.encode(x)))\n",
    "combined_data = combined_data[combined_data.n_tokens <= max_tokens]\n",
    "\n",
    "# Use HuggingFace embeddings instead of OpenAI\n",
    "embeddings = HuggingFaceEmbeddings(\n",
    "    model_name=\"sentence-transformers/all-MiniLM-L6-v2\"\n",
    ")\n",
    "\n",
    "# Generate embeddings\n",
    "combined_data[\"vector\"] = combined_data.combined_info.apply(lambda x: embeddings.embed_query(x))"
   ]
  },
  {
   "cell_type": "code",
   "execution_count": 29,
   "metadata": {},
   "outputs": [
    {
     "name": "stdout",
     "output_type": "stream",
     "text": [
      "Embedding Dimensions: 384\n"
     ]
    }
   ],
   "source": [
    "# Get dimensions of Embeddings\n",
    "embedding_dimensions = len(combined_data['vector'].iloc[0])\n",
    "print(f\"Embedding Dimensions: {embedding_dimensions}\")"
   ]
  },
  {
   "cell_type": "code",
   "execution_count": 9,
   "metadata": {},
   "outputs": [
    {
     "ename": "NameError",
     "evalue": "name 'combined_data' is not defined",
     "output_type": "error",
     "traceback": [
      "\u001b[1;31m---------------------------------------------------------------------------\u001b[0m",
      "\u001b[1;31mNameError\u001b[0m                                 Traceback (most recent call last)",
      "Cell \u001b[1;32mIn[9], line 1\u001b[0m\n\u001b[1;32m----> 1\u001b[0m combined_data\u001b[38;5;241m.\u001b[39mto_pickle(\u001b[38;5;124m'\u001b[39m\u001b[38;5;124mcombined_data.pkl\u001b[39m\u001b[38;5;124m'\u001b[39m)\n",
      "\u001b[1;31mNameError\u001b[0m: name 'combined_data' is not defined"
     ]
    }
   ],
   "source": [
    "combined_data.to_pickle('combined_data.pkl')"
   ]
  },
  {
   "cell_type": "code",
   "execution_count": 6,
   "metadata": {},
   "outputs": [
    {
     "ename": "PineconeApiException",
     "evalue": "(409)\nReason: Conflict\nHTTP response headers: HTTPHeaderDict({'content-type': 'text/plain; charset=utf-8', 'access-control-allow-origin': '*', 'vary': 'origin,access-control-request-method,access-control-request-headers', 'access-control-expose-headers': '*', 'x-pinecone-api-version': '2024-07', 'X-Cloud-Trace-Context': 'df2c386a891f1dfe27e8c55bb14c6c77', 'Date': 'Sat, 04 Jan 2025 05:16:28 GMT', 'Server': 'Google Frontend', 'Content-Length': '85', 'Via': '1.1 google', 'Alt-Svc': 'h3=\":443\"; ma=2592000,h3-29=\":443\"; ma=2592000'})\nHTTP response body: {\"error\":{\"code\":\"ALREADY_EXISTS\",\"message\":\"Resource  already exists\"},\"status\":409}\n",
     "output_type": "error",
     "traceback": [
      "\u001b[1;31m---------------------------------------------------------------------------\u001b[0m",
      "\u001b[1;31mPineconeApiException\u001b[0m                      Traceback (most recent call last)",
      "Cell \u001b[1;32mIn[6], line 11\u001b[0m\n\u001b[0;32m      9\u001b[0m embedding_dimensions \u001b[38;5;241m=\u001b[39m \u001b[38;5;241m384\u001b[39m\n\u001b[0;32m     10\u001b[0m \u001b[38;5;28;01mif\u001b[39;00m index_name \u001b[38;5;129;01mnot\u001b[39;00m \u001b[38;5;129;01min\u001b[39;00m pc\u001b[38;5;241m.\u001b[39mlist_indexes():\n\u001b[1;32m---> 11\u001b[0m     pc\u001b[38;5;241m.\u001b[39mcreate_index(\n\u001b[0;32m     12\u001b[0m         name\u001b[38;5;241m=\u001b[39mindex_name,\n\u001b[0;32m     13\u001b[0m         dimension\u001b[38;5;241m=\u001b[39membedding_dimensions,\n\u001b[0;32m     14\u001b[0m         metric\u001b[38;5;241m=\u001b[39m\u001b[38;5;124m\"\u001b[39m\u001b[38;5;124mcosine\u001b[39m\u001b[38;5;124m\"\u001b[39m,\n\u001b[0;32m     15\u001b[0m         spec\u001b[38;5;241m=\u001b[39mServerlessSpec(\n\u001b[0;32m     16\u001b[0m             cloud\u001b[38;5;241m=\u001b[39m\u001b[38;5;124m\"\u001b[39m\u001b[38;5;124maws\u001b[39m\u001b[38;5;124m\"\u001b[39m,\n\u001b[0;32m     17\u001b[0m             region\u001b[38;5;241m=\u001b[39m\u001b[38;5;124m\"\u001b[39m\u001b[38;5;124mus-east-1\u001b[39m\u001b[38;5;124m\"\u001b[39m\n\u001b[0;32m     18\u001b[0m         )\n\u001b[0;32m     19\u001b[0m     )\n\u001b[0;32m     20\u001b[0m \u001b[38;5;28;01melse\u001b[39;00m:\n\u001b[0;32m     21\u001b[0m     \u001b[38;5;28mprint\u001b[39m(\u001b[38;5;124mf\u001b[39m\u001b[38;5;124m\"\u001b[39m\u001b[38;5;124mIndex \u001b[39m\u001b[38;5;124m'\u001b[39m\u001b[38;5;132;01m{\u001b[39;00mindex_name\u001b[38;5;132;01m}\u001b[39;00m\u001b[38;5;124m'\u001b[39m\u001b[38;5;124m already exists.\u001b[39m\u001b[38;5;124m\"\u001b[39m)\n",
      "File \u001b[1;32mc:\\Users\\Ali Zain\\computer programmer codes\\New folder\\Lib\\site-packages\\pinecone\\control\\pinecone.py:384\u001b[0m, in \u001b[0;36mPinecone.create_index\u001b[1;34m(self, name, dimension, spec, metric, timeout, deletion_protection)\u001b[0m\n\u001b[0;32m    381\u001b[0m \u001b[38;5;28;01melse\u001b[39;00m:\n\u001b[0;32m    382\u001b[0m     \u001b[38;5;28;01mraise\u001b[39;00m \u001b[38;5;167;01mTypeError\u001b[39;00m(\u001b[38;5;124m\"\u001b[39m\u001b[38;5;124mspec must be of type dict, ServerlessSpec, or PodSpec\u001b[39m\u001b[38;5;124m\"\u001b[39m)\n\u001b[1;32m--> 384\u001b[0m api_instance\u001b[38;5;241m.\u001b[39mcreate_index(\n\u001b[0;32m    385\u001b[0m     create_index_request\u001b[38;5;241m=\u001b[39mCreateIndexRequest(\n\u001b[0;32m    386\u001b[0m         name\u001b[38;5;241m=\u001b[39mname,\n\u001b[0;32m    387\u001b[0m         dimension\u001b[38;5;241m=\u001b[39mdimension,\n\u001b[0;32m    388\u001b[0m         metric\u001b[38;5;241m=\u001b[39mmetric,\n\u001b[0;32m    389\u001b[0m         spec\u001b[38;5;241m=\u001b[39mindex_spec,\n\u001b[0;32m    390\u001b[0m         deletion_protection\u001b[38;5;241m=\u001b[39mdp,\n\u001b[0;32m    391\u001b[0m     ),\n\u001b[0;32m    392\u001b[0m )\n\u001b[0;32m    394\u001b[0m \u001b[38;5;28;01mdef\u001b[39;00m \u001b[38;5;21mis_ready\u001b[39m():\n\u001b[0;32m    395\u001b[0m     status \u001b[38;5;241m=\u001b[39m \u001b[38;5;28mself\u001b[39m\u001b[38;5;241m.\u001b[39m_get_status(name)\n",
      "File \u001b[1;32mc:\\Users\\Ali Zain\\computer programmer codes\\New folder\\Lib\\site-packages\\pinecone\\core\\openapi\\shared\\api_client.py:761\u001b[0m, in \u001b[0;36mEndpoint.__call__\u001b[1;34m(self, *args, **kwargs)\u001b[0m\n\u001b[0;32m    750\u001b[0m \u001b[38;5;28;01mdef\u001b[39;00m \u001b[38;5;21m__call__\u001b[39m(\u001b[38;5;28mself\u001b[39m, \u001b[38;5;241m*\u001b[39margs, \u001b[38;5;241m*\u001b[39m\u001b[38;5;241m*\u001b[39mkwargs):\n\u001b[0;32m    751\u001b[0m \u001b[38;5;250m    \u001b[39m\u001b[38;5;124;03m\"\"\"This method is invoked when endpoints are called\u001b[39;00m\n\u001b[0;32m    752\u001b[0m \u001b[38;5;124;03m    Example:\u001b[39;00m\n\u001b[0;32m    753\u001b[0m \n\u001b[1;32m   (...)\u001b[0m\n\u001b[0;32m    759\u001b[0m \n\u001b[0;32m    760\u001b[0m \u001b[38;5;124;03m    \"\"\"\u001b[39;00m\n\u001b[1;32m--> 761\u001b[0m     \u001b[38;5;28;01mreturn\u001b[39;00m \u001b[38;5;28mself\u001b[39m\u001b[38;5;241m.\u001b[39mcallable(\u001b[38;5;28mself\u001b[39m, \u001b[38;5;241m*\u001b[39margs, \u001b[38;5;241m*\u001b[39m\u001b[38;5;241m*\u001b[39mkwargs)\n",
      "File \u001b[1;32mc:\\Users\\Ali Zain\\computer programmer codes\\New folder\\Lib\\site-packages\\pinecone\\core\\openapi\\control\\api\\manage_indexes_api.py:273\u001b[0m, in \u001b[0;36mManageIndexesApi.__init__.<locals>.__create_index\u001b[1;34m(self, create_index_request, **kwargs)\u001b[0m\n\u001b[0;32m    271\u001b[0m kwargs[\u001b[38;5;124m\"\u001b[39m\u001b[38;5;124m_host_index\u001b[39m\u001b[38;5;124m\"\u001b[39m] \u001b[38;5;241m=\u001b[39m kwargs\u001b[38;5;241m.\u001b[39mget(\u001b[38;5;124m\"\u001b[39m\u001b[38;5;124m_host_index\u001b[39m\u001b[38;5;124m\"\u001b[39m)\n\u001b[0;32m    272\u001b[0m kwargs[\u001b[38;5;124m\"\u001b[39m\u001b[38;5;124mcreate_index_request\u001b[39m\u001b[38;5;124m\"\u001b[39m] \u001b[38;5;241m=\u001b[39m create_index_request\n\u001b[1;32m--> 273\u001b[0m \u001b[38;5;28;01mreturn\u001b[39;00m \u001b[38;5;28mself\u001b[39m\u001b[38;5;241m.\u001b[39mcall_with_http_info(\u001b[38;5;241m*\u001b[39m\u001b[38;5;241m*\u001b[39mkwargs)\n",
      "File \u001b[1;32mc:\\Users\\Ali Zain\\computer programmer codes\\New folder\\Lib\\site-packages\\pinecone\\core\\openapi\\shared\\api_client.py:819\u001b[0m, in \u001b[0;36mEndpoint.call_with_http_info\u001b[1;34m(self, **kwargs)\u001b[0m\n\u001b[0;32m    816\u001b[0m     header_list \u001b[38;5;241m=\u001b[39m \u001b[38;5;28mself\u001b[39m\u001b[38;5;241m.\u001b[39mapi_client\u001b[38;5;241m.\u001b[39mselect_header_content_type(content_type_headers_list)\n\u001b[0;32m    817\u001b[0m     params[\u001b[38;5;124m\"\u001b[39m\u001b[38;5;124mheader\u001b[39m\u001b[38;5;124m\"\u001b[39m][\u001b[38;5;124m\"\u001b[39m\u001b[38;5;124mContent-Type\u001b[39m\u001b[38;5;124m\"\u001b[39m] \u001b[38;5;241m=\u001b[39m header_list\n\u001b[1;32m--> 819\u001b[0m \u001b[38;5;28;01mreturn\u001b[39;00m \u001b[38;5;28mself\u001b[39m\u001b[38;5;241m.\u001b[39mapi_client\u001b[38;5;241m.\u001b[39mcall_api(\n\u001b[0;32m    820\u001b[0m     \u001b[38;5;28mself\u001b[39m\u001b[38;5;241m.\u001b[39msettings[\u001b[38;5;124m\"\u001b[39m\u001b[38;5;124mendpoint_path\u001b[39m\u001b[38;5;124m\"\u001b[39m],\n\u001b[0;32m    821\u001b[0m     \u001b[38;5;28mself\u001b[39m\u001b[38;5;241m.\u001b[39msettings[\u001b[38;5;124m\"\u001b[39m\u001b[38;5;124mhttp_method\u001b[39m\u001b[38;5;124m\"\u001b[39m],\n\u001b[0;32m    822\u001b[0m     params[\u001b[38;5;124m\"\u001b[39m\u001b[38;5;124mpath\u001b[39m\u001b[38;5;124m\"\u001b[39m],\n\u001b[0;32m    823\u001b[0m     params[\u001b[38;5;124m\"\u001b[39m\u001b[38;5;124mquery\u001b[39m\u001b[38;5;124m\"\u001b[39m],\n\u001b[0;32m    824\u001b[0m     params[\u001b[38;5;124m\"\u001b[39m\u001b[38;5;124mheader\u001b[39m\u001b[38;5;124m\"\u001b[39m],\n\u001b[0;32m    825\u001b[0m     body\u001b[38;5;241m=\u001b[39mparams[\u001b[38;5;124m\"\u001b[39m\u001b[38;5;124mbody\u001b[39m\u001b[38;5;124m\"\u001b[39m],\n\u001b[0;32m    826\u001b[0m     post_params\u001b[38;5;241m=\u001b[39mparams[\u001b[38;5;124m\"\u001b[39m\u001b[38;5;124mform\u001b[39m\u001b[38;5;124m\"\u001b[39m],\n\u001b[0;32m    827\u001b[0m     files\u001b[38;5;241m=\u001b[39mparams[\u001b[38;5;124m\"\u001b[39m\u001b[38;5;124mfile\u001b[39m\u001b[38;5;124m\"\u001b[39m],\n\u001b[0;32m    828\u001b[0m     response_type\u001b[38;5;241m=\u001b[39m\u001b[38;5;28mself\u001b[39m\u001b[38;5;241m.\u001b[39msettings[\u001b[38;5;124m\"\u001b[39m\u001b[38;5;124mresponse_type\u001b[39m\u001b[38;5;124m\"\u001b[39m],\n\u001b[0;32m    829\u001b[0m     auth_settings\u001b[38;5;241m=\u001b[39m\u001b[38;5;28mself\u001b[39m\u001b[38;5;241m.\u001b[39msettings[\u001b[38;5;124m\"\u001b[39m\u001b[38;5;124mauth\u001b[39m\u001b[38;5;124m\"\u001b[39m],\n\u001b[0;32m    830\u001b[0m     async_req\u001b[38;5;241m=\u001b[39mkwargs[\u001b[38;5;124m\"\u001b[39m\u001b[38;5;124masync_req\u001b[39m\u001b[38;5;124m\"\u001b[39m],\n\u001b[0;32m    831\u001b[0m     _check_type\u001b[38;5;241m=\u001b[39mkwargs[\u001b[38;5;124m\"\u001b[39m\u001b[38;5;124m_check_return_type\u001b[39m\u001b[38;5;124m\"\u001b[39m],\n\u001b[0;32m    832\u001b[0m     _return_http_data_only\u001b[38;5;241m=\u001b[39mkwargs[\u001b[38;5;124m\"\u001b[39m\u001b[38;5;124m_return_http_data_only\u001b[39m\u001b[38;5;124m\"\u001b[39m],\n\u001b[0;32m    833\u001b[0m     _preload_content\u001b[38;5;241m=\u001b[39mkwargs[\u001b[38;5;124m\"\u001b[39m\u001b[38;5;124m_preload_content\u001b[39m\u001b[38;5;124m\"\u001b[39m],\n\u001b[0;32m    834\u001b[0m     _request_timeout\u001b[38;5;241m=\u001b[39mkwargs[\u001b[38;5;124m\"\u001b[39m\u001b[38;5;124m_request_timeout\u001b[39m\u001b[38;5;124m\"\u001b[39m],\n\u001b[0;32m    835\u001b[0m     _host\u001b[38;5;241m=\u001b[39m_host,\n\u001b[0;32m    836\u001b[0m     collection_formats\u001b[38;5;241m=\u001b[39mparams[\u001b[38;5;124m\"\u001b[39m\u001b[38;5;124mcollection_format\u001b[39m\u001b[38;5;124m\"\u001b[39m],\n\u001b[0;32m    837\u001b[0m )\n",
      "File \u001b[1;32mc:\\Users\\Ali Zain\\computer programmer codes\\New folder\\Lib\\site-packages\\pinecone\\core\\openapi\\shared\\api_client.py:380\u001b[0m, in \u001b[0;36mApiClient.call_api\u001b[1;34m(self, resource_path, method, path_params, query_params, header_params, body, post_params, files, response_type, auth_settings, async_req, _return_http_data_only, collection_formats, _preload_content, _request_timeout, _host, _check_type)\u001b[0m\n\u001b[0;32m    326\u001b[0m \u001b[38;5;250m\u001b[39m\u001b[38;5;124;03m\"\"\"Makes the HTTP request (synchronous) and returns deserialized data.\u001b[39;00m\n\u001b[0;32m    327\u001b[0m \n\u001b[0;32m    328\u001b[0m \u001b[38;5;124;03mTo make an async_req request, set the async_req parameter.\u001b[39;00m\n\u001b[1;32m   (...)\u001b[0m\n\u001b[0;32m    377\u001b[0m \u001b[38;5;124;03m    then the method will return the response directly.\u001b[39;00m\n\u001b[0;32m    378\u001b[0m \u001b[38;5;124;03m\"\"\"\u001b[39;00m\n\u001b[0;32m    379\u001b[0m \u001b[38;5;28;01mif\u001b[39;00m \u001b[38;5;129;01mnot\u001b[39;00m async_req:\n\u001b[1;32m--> 380\u001b[0m     \u001b[38;5;28;01mreturn\u001b[39;00m \u001b[38;5;28mself\u001b[39m\u001b[38;5;241m.\u001b[39m__call_api(\n\u001b[0;32m    381\u001b[0m         resource_path,\n\u001b[0;32m    382\u001b[0m         method,\n\u001b[0;32m    383\u001b[0m         path_params,\n\u001b[0;32m    384\u001b[0m         query_params,\n\u001b[0;32m    385\u001b[0m         header_params,\n\u001b[0;32m    386\u001b[0m         body,\n\u001b[0;32m    387\u001b[0m         post_params,\n\u001b[0;32m    388\u001b[0m         files,\n\u001b[0;32m    389\u001b[0m         response_type,\n\u001b[0;32m    390\u001b[0m         auth_settings,\n\u001b[0;32m    391\u001b[0m         _return_http_data_only,\n\u001b[0;32m    392\u001b[0m         collection_formats,\n\u001b[0;32m    393\u001b[0m         _preload_content,\n\u001b[0;32m    394\u001b[0m         _request_timeout,\n\u001b[0;32m    395\u001b[0m         _host,\n\u001b[0;32m    396\u001b[0m         _check_type,\n\u001b[0;32m    397\u001b[0m     )\n\u001b[0;32m    399\u001b[0m \u001b[38;5;28;01mreturn\u001b[39;00m \u001b[38;5;28mself\u001b[39m\u001b[38;5;241m.\u001b[39mpool\u001b[38;5;241m.\u001b[39mapply_async(\n\u001b[0;32m    400\u001b[0m     \u001b[38;5;28mself\u001b[39m\u001b[38;5;241m.\u001b[39m__call_api,\n\u001b[0;32m    401\u001b[0m     (\n\u001b[1;32m   (...)\u001b[0m\n\u001b[0;32m    418\u001b[0m     ),\n\u001b[0;32m    419\u001b[0m )\n",
      "File \u001b[1;32mc:\\Users\\Ali Zain\\computer programmer codes\\New folder\\Lib\\site-packages\\pinecone\\core\\openapi\\shared\\api_client.py:187\u001b[0m, in \u001b[0;36mApiClient.__call_api\u001b[1;34m(self, resource_path, method, path_params, query_params, header_params, body, post_params, files, response_type, auth_settings, _return_http_data_only, collection_formats, _preload_content, _request_timeout, _host, _check_type)\u001b[0m\n\u001b[0;32m    185\u001b[0m \u001b[38;5;28;01mexcept\u001b[39;00m PineconeApiException \u001b[38;5;28;01mas\u001b[39;00m e:\n\u001b[0;32m    186\u001b[0m     e\u001b[38;5;241m.\u001b[39mbody \u001b[38;5;241m=\u001b[39m e\u001b[38;5;241m.\u001b[39mbody\u001b[38;5;241m.\u001b[39mdecode(\u001b[38;5;124m\"\u001b[39m\u001b[38;5;124mutf-8\u001b[39m\u001b[38;5;124m\"\u001b[39m)\n\u001b[1;32m--> 187\u001b[0m     \u001b[38;5;28;01mraise\u001b[39;00m e\n\u001b[0;32m    189\u001b[0m \u001b[38;5;28mself\u001b[39m\u001b[38;5;241m.\u001b[39mlast_response \u001b[38;5;241m=\u001b[39m response_data\n\u001b[0;32m    191\u001b[0m return_data \u001b[38;5;241m=\u001b[39m response_data\n",
      "File \u001b[1;32mc:\\Users\\Ali Zain\\computer programmer codes\\New folder\\Lib\\site-packages\\pinecone\\core\\openapi\\shared\\api_client.py:175\u001b[0m, in \u001b[0;36mApiClient.__call_api\u001b[1;34m(self, resource_path, method, path_params, query_params, header_params, body, post_params, files, response_type, auth_settings, _return_http_data_only, collection_formats, _preload_content, _request_timeout, _host, _check_type)\u001b[0m\n\u001b[0;32m    171\u001b[0m     url \u001b[38;5;241m=\u001b[39m _host \u001b[38;5;241m+\u001b[39m resource_path\n\u001b[0;32m    173\u001b[0m \u001b[38;5;28;01mtry\u001b[39;00m:\n\u001b[0;32m    174\u001b[0m     \u001b[38;5;66;03m# perform request and return response\u001b[39;00m\n\u001b[1;32m--> 175\u001b[0m     response_data \u001b[38;5;241m=\u001b[39m \u001b[38;5;28mself\u001b[39m\u001b[38;5;241m.\u001b[39mrequest(\n\u001b[0;32m    176\u001b[0m         method,\n\u001b[0;32m    177\u001b[0m         url,\n\u001b[0;32m    178\u001b[0m         query_params\u001b[38;5;241m=\u001b[39mquery_params,\n\u001b[0;32m    179\u001b[0m         headers\u001b[38;5;241m=\u001b[39mheader_params,\n\u001b[0;32m    180\u001b[0m         post_params\u001b[38;5;241m=\u001b[39mpost_params,\n\u001b[0;32m    181\u001b[0m         body\u001b[38;5;241m=\u001b[39mbody,\n\u001b[0;32m    182\u001b[0m         _preload_content\u001b[38;5;241m=\u001b[39m_preload_content,\n\u001b[0;32m    183\u001b[0m         _request_timeout\u001b[38;5;241m=\u001b[39m_request_timeout,\n\u001b[0;32m    184\u001b[0m     )\n\u001b[0;32m    185\u001b[0m \u001b[38;5;28;01mexcept\u001b[39;00m PineconeApiException \u001b[38;5;28;01mas\u001b[39;00m e:\n\u001b[0;32m    186\u001b[0m     e\u001b[38;5;241m.\u001b[39mbody \u001b[38;5;241m=\u001b[39m e\u001b[38;5;241m.\u001b[39mbody\u001b[38;5;241m.\u001b[39mdecode(\u001b[38;5;124m\"\u001b[39m\u001b[38;5;124mutf-8\u001b[39m\u001b[38;5;124m\"\u001b[39m)\n",
      "File \u001b[1;32mc:\\Users\\Ali Zain\\computer programmer codes\\New folder\\Lib\\site-packages\\pinecone\\core\\openapi\\shared\\api_client.py:460\u001b[0m, in \u001b[0;36mApiClient.request\u001b[1;34m(self, method, url, query_params, headers, post_params, body, _preload_content, _request_timeout)\u001b[0m\n\u001b[0;32m    450\u001b[0m     \u001b[38;5;28;01mreturn\u001b[39;00m \u001b[38;5;28mself\u001b[39m\u001b[38;5;241m.\u001b[39mrest_client\u001b[38;5;241m.\u001b[39mOPTIONS(\n\u001b[0;32m    451\u001b[0m         url,\n\u001b[0;32m    452\u001b[0m         query_params\u001b[38;5;241m=\u001b[39mquery_params,\n\u001b[1;32m   (...)\u001b[0m\n\u001b[0;32m    457\u001b[0m         body\u001b[38;5;241m=\u001b[39mbody,\n\u001b[0;32m    458\u001b[0m     )\n\u001b[0;32m    459\u001b[0m \u001b[38;5;28;01melif\u001b[39;00m method \u001b[38;5;241m==\u001b[39m \u001b[38;5;124m\"\u001b[39m\u001b[38;5;124mPOST\u001b[39m\u001b[38;5;124m\"\u001b[39m:\n\u001b[1;32m--> 460\u001b[0m     \u001b[38;5;28;01mreturn\u001b[39;00m \u001b[38;5;28mself\u001b[39m\u001b[38;5;241m.\u001b[39mrest_client\u001b[38;5;241m.\u001b[39mPOST(\n\u001b[0;32m    461\u001b[0m         url,\n\u001b[0;32m    462\u001b[0m         query_params\u001b[38;5;241m=\u001b[39mquery_params,\n\u001b[0;32m    463\u001b[0m         headers\u001b[38;5;241m=\u001b[39mheaders,\n\u001b[0;32m    464\u001b[0m         post_params\u001b[38;5;241m=\u001b[39mpost_params,\n\u001b[0;32m    465\u001b[0m         _preload_content\u001b[38;5;241m=\u001b[39m_preload_content,\n\u001b[0;32m    466\u001b[0m         _request_timeout\u001b[38;5;241m=\u001b[39m_request_timeout,\n\u001b[0;32m    467\u001b[0m         body\u001b[38;5;241m=\u001b[39mbody,\n\u001b[0;32m    468\u001b[0m     )\n\u001b[0;32m    469\u001b[0m \u001b[38;5;28;01melif\u001b[39;00m method \u001b[38;5;241m==\u001b[39m \u001b[38;5;124m\"\u001b[39m\u001b[38;5;124mPUT\u001b[39m\u001b[38;5;124m\"\u001b[39m:\n\u001b[0;32m    470\u001b[0m     \u001b[38;5;28;01mreturn\u001b[39;00m \u001b[38;5;28mself\u001b[39m\u001b[38;5;241m.\u001b[39mrest_client\u001b[38;5;241m.\u001b[39mPUT(\n\u001b[0;32m    471\u001b[0m         url,\n\u001b[0;32m    472\u001b[0m         query_params\u001b[38;5;241m=\u001b[39mquery_params,\n\u001b[1;32m   (...)\u001b[0m\n\u001b[0;32m    477\u001b[0m         body\u001b[38;5;241m=\u001b[39mbody,\n\u001b[0;32m    478\u001b[0m     )\n",
      "File \u001b[1;32mc:\\Users\\Ali Zain\\computer programmer codes\\New folder\\Lib\\site-packages\\pinecone\\core\\openapi\\shared\\rest.py:345\u001b[0m, in \u001b[0;36mRESTClientObject.POST\u001b[1;34m(self, url, headers, query_params, post_params, body, _preload_content, _request_timeout)\u001b[0m\n\u001b[0;32m    335\u001b[0m \u001b[38;5;28;01mdef\u001b[39;00m \u001b[38;5;21mPOST\u001b[39m(\n\u001b[0;32m    336\u001b[0m     \u001b[38;5;28mself\u001b[39m,\n\u001b[0;32m    337\u001b[0m     url,\n\u001b[1;32m   (...)\u001b[0m\n\u001b[0;32m    343\u001b[0m     _request_timeout\u001b[38;5;241m=\u001b[39m\u001b[38;5;28;01mNone\u001b[39;00m,\n\u001b[0;32m    344\u001b[0m ):\n\u001b[1;32m--> 345\u001b[0m     \u001b[38;5;28;01mreturn\u001b[39;00m \u001b[38;5;28mself\u001b[39m\u001b[38;5;241m.\u001b[39mrequest(\n\u001b[0;32m    346\u001b[0m         \u001b[38;5;124m\"\u001b[39m\u001b[38;5;124mPOST\u001b[39m\u001b[38;5;124m\"\u001b[39m,\n\u001b[0;32m    347\u001b[0m         url,\n\u001b[0;32m    348\u001b[0m         headers\u001b[38;5;241m=\u001b[39mheaders,\n\u001b[0;32m    349\u001b[0m         query_params\u001b[38;5;241m=\u001b[39mquery_params,\n\u001b[0;32m    350\u001b[0m         post_params\u001b[38;5;241m=\u001b[39mpost_params,\n\u001b[0;32m    351\u001b[0m         _preload_content\u001b[38;5;241m=\u001b[39m_preload_content,\n\u001b[0;32m    352\u001b[0m         _request_timeout\u001b[38;5;241m=\u001b[39m_request_timeout,\n\u001b[0;32m    353\u001b[0m         body\u001b[38;5;241m=\u001b[39mbody,\n\u001b[0;32m    354\u001b[0m     )\n",
      "File \u001b[1;32mc:\\Users\\Ali Zain\\computer programmer codes\\New folder\\Lib\\site-packages\\pinecone\\core\\openapi\\shared\\rest.py:279\u001b[0m, in \u001b[0;36mRESTClientObject.request\u001b[1;34m(self, method, url, query_params, headers, body, post_params, _preload_content, _request_timeout)\u001b[0m\n\u001b[0;32m    276\u001b[0m     \u001b[38;5;28;01mif\u001b[39;00m \u001b[38;5;241m500\u001b[39m \u001b[38;5;241m<\u001b[39m\u001b[38;5;241m=\u001b[39m r\u001b[38;5;241m.\u001b[39mstatus \u001b[38;5;241m<\u001b[39m\u001b[38;5;241m=\u001b[39m \u001b[38;5;241m599\u001b[39m:\n\u001b[0;32m    277\u001b[0m         \u001b[38;5;28;01mraise\u001b[39;00m ServiceException(http_resp\u001b[38;5;241m=\u001b[39mr)\n\u001b[1;32m--> 279\u001b[0m     \u001b[38;5;28;01mraise\u001b[39;00m PineconeApiException(http_resp\u001b[38;5;241m=\u001b[39mr)\n\u001b[0;32m    281\u001b[0m \u001b[38;5;28;01mreturn\u001b[39;00m r\n",
      "\u001b[1;31mPineconeApiException\u001b[0m: (409)\nReason: Conflict\nHTTP response headers: HTTPHeaderDict({'content-type': 'text/plain; charset=utf-8', 'access-control-allow-origin': '*', 'vary': 'origin,access-control-request-method,access-control-request-headers', 'access-control-expose-headers': '*', 'x-pinecone-api-version': '2024-07', 'X-Cloud-Trace-Context': 'df2c386a891f1dfe27e8c55bb14c6c77', 'Date': 'Sat, 04 Jan 2025 05:16:28 GMT', 'Server': 'Google Frontend', 'Content-Length': '85', 'Via': '1.1 google', 'Alt-Svc': 'h3=\":443\"; ma=2592000,h3-29=\":443\"; ma=2592000'})\nHTTP response body: {\"error\":{\"code\":\"ALREADY_EXISTS\",\"message\":\"Resource  already exists\"},\"status\":409}\n"
     ]
    }
   ],
   "source": [
    "# Set the API key as an environment variable\n",
    "os.environ[\"PINECONE_API_KEY\"] = \"pcsk_7YQanE_AP9y5db9N5vQaoUYC2h6bxvr92sEPyXzVBUcotcvBubtsEqsfkDaLQ6LrGwWRnw\"\n",
    "\n",
    "# Initialize Pinecone client\n",
    "pc = Pinecone(api_key=os.environ[\"PINECONE_API_KEY\"])\n",
    "\n",
    "# Create or connect to a Pinecone index\n",
    "index_name = \"combineddataindex\"\n",
    "embedding_dimensions = 384\n",
    "if index_name not in pc.list_indexes():\n",
    "    pc.create_index(\n",
    "        name=index_name,\n",
    "        dimension=embedding_dimensions,\n",
    "        metric=\"cosine\",\n",
    "        spec=ServerlessSpec(\n",
    "            cloud=\"aws\",\n",
    "            region=\"us-east-1\"\n",
    "        )\n",
    "    )\n",
    "else:\n",
    "    print(f\"Index '{index_name}' already exists.\")\n",
    "\n",
    "# Prepare documents\n",
    "\n",
    "\n",
    "# Create vector store with Pinecone\n",
    "\n"
   ]
  },
  {
   "cell_type": "code",
   "execution_count": 24,
   "metadata": {},
   "outputs": [],
   "source": [
    "documents = [\n",
    "    Document(\n",
    "        page_content=row['combined_info'],\n",
    "        metadata={\n",
    "            'title': row['user_id'],\n",
    "        }\n",
    "    ) for _, row in combined_data.iterrows()\n",
    "]"
   ]
  },
  {
   "cell_type": "code",
   "execution_count": 25,
   "metadata": {},
   "outputs": [],
   "source": [
    "docsearch = PineconeVectorStore.from_documents(\n",
    "    documents=documents,\n",
    "    embedding=embeddings,\n",
    "    index_name=index_name\n",
    ")"
   ]
  },
  {
   "cell_type": "code",
   "execution_count": 26,
   "metadata": {},
   "outputs": [],
   "source": [
    "# Define LLM using Groq (Llama model)\n",
    "llm = ChatGroq(\n",
    "    model_name=\"llama3-8b-8192\",  # or another Llama model available\n",
    "    api_key=\"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\",\n",
    "    temperature=0\n",
    ")"
   ]
  },
  {
   "cell_type": "code",
   "execution_count": 2,
   "metadata": {},
   "outputs": [
    {
     "ename": "NameError",
     "evalue": "name 'PromptTemplate' is not defined",
     "output_type": "error",
     "traceback": [
      "\u001b[1;31m---------------------------------------------------------------------------\u001b[0m",
      "\u001b[1;31mNameError\u001b[0m                                 Traceback (most recent call last)",
      "Cell \u001b[1;32mIn[2], line 11\u001b[0m\n\u001b[0;32m      1\u001b[0m \u001b[38;5;66;03m# Define custom prompt template for stock-related information specific to the user\u001b[39;00m\n\u001b[0;32m      2\u001b[0m template \u001b[38;5;241m=\u001b[39m \u001b[38;5;124m\"\"\"\u001b[39m\u001b[38;5;124mYou are a stock information assistant that helps users find details about stocks and their portfolios.\u001b[39m\n\u001b[0;32m      3\u001b[0m \u001b[38;5;124mUse the following pieces of context to answer the question at the end.\u001b[39m\n\u001b[0;32m      4\u001b[0m \u001b[38;5;124mIf any information is missing from the database, provide a general answer based on your knowledge.\u001b[39m\n\u001b[1;32m   (...)\u001b[0m\n\u001b[0;32m      8\u001b[0m \u001b[38;5;124mQuestion: \u001b[39m\u001b[38;5;132;01m{question}\u001b[39;00m\n\u001b[0;32m      9\u001b[0m \u001b[38;5;124mYour response:\u001b[39m\u001b[38;5;124m\"\"\"\u001b[39m\n\u001b[1;32m---> 11\u001b[0m PROMPT \u001b[38;5;241m=\u001b[39m PromptTemplate(\n\u001b[0;32m     12\u001b[0m     template\u001b[38;5;241m=\u001b[39mtemplate, input_variables\u001b[38;5;241m=\u001b[39m[\u001b[38;5;124m\"\u001b[39m\u001b[38;5;124mcontext\u001b[39m\u001b[38;5;124m\"\u001b[39m, \u001b[38;5;124m\"\u001b[39m\u001b[38;5;124mquestion\u001b[39m\u001b[38;5;124m\"\u001b[39m]\n\u001b[0;32m     13\u001b[0m )\n\u001b[0;32m     15\u001b[0m \u001b[38;5;28;01mdef\u001b[39;00m \u001b[38;5;21mretrieve_ranked_context\u001b[39m(user_id, query):\n\u001b[0;32m     16\u001b[0m     \u001b[38;5;66;03m# Filter the documents based on user_id\u001b[39;00m\n\u001b[0;32m     17\u001b[0m     results \u001b[38;5;241m=\u001b[39m docsearch\u001b[38;5;241m.\u001b[39msimilarity_search(query, k\u001b[38;5;241m=\u001b[39m\u001b[38;5;241m100\u001b[39m)  \u001b[38;5;66;03m# Retrieve top 100 matches\u001b[39;00m\n",
      "\u001b[1;31mNameError\u001b[0m: name 'PromptTemplate' is not defined"
     ]
    }
   ],
   "source": [
    "# Define custom prompt template for stock-related information specific to the user\n",
    "template = \"\"\"You are a stock information assistant that helps users find details about stocks and their portfolios.\n",
    "Use the following pieces of context to answer the question at the end.\n",
    "If any information is missing from the database, provide a general answer based on your knowledge.\n",
    "\n",
    "{context}\n",
    "\n",
    "Question: {question}\n",
    "Your response:\"\"\"\n",
    "\n",
    "PROMPT = PromptTemplate(\n",
    "    template=template, input_variables=[\"context\", \"question\"]\n",
    ")\n",
    "\n",
    "def retrieve_ranked_context(user_id, query):\n",
    "    # Filter the documents based on user_id\n",
    "    results = docsearch.similarity_search(query, k=100)  # Retrieve top 100 matches\n",
    "    \n",
    "    # Filter results to only include those related to the given user_id\n",
    "    user_specific_results = [doc for doc in results if doc.metadata.get('user_id') == user_id]\n",
    "\n",
    "    # Sort by relevant fields (e.g., stock price or portfolio details)\n",
    "    ranked_results = sorted(\n",
    "        user_specific_results,\n",
    "        key=lambda x: float(x.metadata.get(\"price\", 0)),  # Sort by stock price or other relevant field\n",
    "        reverse=True\n",
    "    )\n",
    "\n",
    "    # If no results are found for the user, provide a general answer\n",
    "    if not ranked_results:\n",
    "        return \"Sorry, I couldn't find any specific information for this user. Here's some general information about stocks and portfolios.\"\n",
    "\n",
    "    # Create context from the top 3 results\n",
    "    context = \"\\n\".join([doc.page_content for doc in ranked_results[:3]])  # Top 3 results\n",
    "    return context\n",
    "\n",
    "# Create QA chain\n",
    "qa_chain = RetrievalQA.from_chain_type(\n",
    "    llm=llm,\n",
    "    chain_type=\"stuff\",\n",
    "    retriever=docsearch.as_retriever(),\n",
    "    return_source_documents=True,\n",
    "    chain_type_kwargs={\"prompt\": PROMPT}\n",
    ")\n",
    "\n",
    "def get_stock_info(user_id, query):\n",
    "    # Suppress any print outputs during the execution\n",
    "    with io.StringIO() as buf, redirect_stdout(buf):\n",
    "        # Retrieve context specific to the user\n",
    "        context = retrieve_ranked_context(user_id, query)\n",
    "        qa_input = {\"context\": context, \"query\": query}\n",
    "        result = qa_chain(qa_input)\n",
    "\n",
    "    # Return the final result without any intermediate prints\n",
    "    return result['result']\n"
   ]
  },
  {
   "cell_type": "code",
   "execution_count": 1,
   "metadata": {},
   "outputs": [
    {
     "ename": "NameError",
     "evalue": "name 'get_stock_info' is not defined",
     "output_type": "error",
     "traceback": [
      "\u001b[1;31m---------------------------------------------------------------------------\u001b[0m",
      "\u001b[1;31mNameError\u001b[0m                                 Traceback (most recent call last)",
      "Cell \u001b[1;32mIn[1], line 3\u001b[0m\n\u001b[0;32m      1\u001b[0m user_id \u001b[38;5;241m=\u001b[39m \u001b[38;5;241m2\u001b[39m  \u001b[38;5;66;03m# Example user_id\u001b[39;00m\n\u001b[0;32m      2\u001b[0m query \u001b[38;5;241m=\u001b[39m \u001b[38;5;124m\"\u001b[39m\u001b[38;5;124mWhat is my stock portfolio?\u001b[39m\u001b[38;5;124m\"\u001b[39m  \u001b[38;5;66;03m# Example query\u001b[39;00m\n\u001b[1;32m----> 3\u001b[0m result \u001b[38;5;241m=\u001b[39m get_stock_info(user_id, query)\n\u001b[0;32m      4\u001b[0m \u001b[38;5;28mprint\u001b[39m(result)\n",
      "\u001b[1;31mNameError\u001b[0m: name 'get_stock_info' is not defined"
     ]
    }
   ],
   "source": [
    "user_id = 2  # Example user_id\n",
    "query = \"What is my stock portfolio?\"  # Example query\n",
    "result = get_stock_info(user_id, query)\n",
    "print(result)"
   ]
  }
 ],
 "metadata": {
  "kernelspec": {
   "display_name": "base",
   "language": "python",
   "name": "python3"
  },
  "language_info": {
   "codemirror_mode": {
    "name": "ipython",
    "version": 3
   },
   "file_extension": ".py",
   "mimetype": "text/x-python",
   "name": "python",
   "nbconvert_exporter": "python",
   "pygments_lexer": "ipython3",
   "version": "3.12.4"
  }
 },
 "nbformat": 4,
 "nbformat_minor": 2
}
